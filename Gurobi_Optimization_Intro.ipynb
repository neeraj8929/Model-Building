{
  "nbformat": 4,
  "nbformat_minor": 0,
  "metadata": {
    "colab": {
      "provenance": []
    },
    "kernelspec": {
      "name": "python3",
      "display_name": "Python 3"
    },
    "language_info": {
      "name": "python"
    }
  },
  "cells": [
    {
      "cell_type": "code",
      "source": [
        "pip install gurobipy\n"
      ],
      "metadata": {
        "colab": {
          "base_uri": "https://localhost:8080/"
        },
        "id": "Q7zCrwlSjXA1",
        "outputId": "94ff639c-d677-4d98-dd25-ed73fbcb3b9a"
      },
      "execution_count": null,
      "outputs": [
        {
          "output_type": "stream",
          "name": "stdout",
          "text": [
            "Collecting gurobipy\n",
            "  Downloading gurobipy-10.0.2-cp310-cp310-manylinux2014_x86_64.whl (12.7 MB)\n",
            "\u001b[2K     \u001b[90m━━━━━━━━━━━━━━━━━━━━━━━━━━━━━━━━━━━━━━━━\u001b[0m \u001b[32m12.7/12.7 MB\u001b[0m \u001b[31m77.7 MB/s\u001b[0m eta \u001b[36m0:00:00\u001b[0m\n",
            "\u001b[?25hInstalling collected packages: gurobipy\n",
            "Successfully installed gurobipy-10.0.2\n"
          ]
        }
      ]
    },
    {
      "cell_type": "code",
      "source": [
        "from gurobipy import GRB\n",
        "import gurobipy as gp\n",
        "import pandas as pd"
      ],
      "metadata": {
        "id": "nqISjAupjmfV"
      },
      "execution_count": null,
      "outputs": []
    },
    {
      "cell_type": "markdown",
      "source": [
        "Furniture Problem - LP\n",
        "\n",
        "\n",
        "\n",
        "Objective Function\n",
        "\n",
        "\\begin{equation}\n",
        "\\max revenue = 45x_1 + 80x_2\n",
        "\\end{equation}\n",
        "\n",
        "Subject to\n",
        "\n",
        "Mahogany\n",
        "\\begin{equation}\n",
        "5x_1 + 20x_2 \\leq 400\n",
        "\\end{equation}\n",
        "\n",
        "Labour\n",
        "\\begin{equation}\n",
        "10x_1 + 15x_2 \\leq 450\n",
        "\\end{equation}\n",
        "\n",
        "Non-negativity\n",
        "\\begin{equation}\n",
        "x_1, x_2 \\geq 0\n",
        "\\end{equation}\n",
        "\n",
        "\n",
        "\n",
        "\n",
        "\n"
      ],
      "metadata": {
        "id": "Vwwh2av8kM2Q"
      }
    },
    {
      "cell_type": "code",
      "source": [
        "from gurobipy import *"
      ],
      "metadata": {
        "id": "JSgAmZvdmbc_"
      },
      "execution_count": null,
      "outputs": []
    },
    {
      "cell_type": "code",
      "source": [
        "# Create Furniture new model\n",
        "f = Model(\"Furniture\")"
      ],
      "metadata": {
        "id": "8e-XZF-gmHzO"
      },
      "execution_count": null,
      "outputs": []
    },
    {
      "cell_type": "code",
      "source": [
        "# Create decision variables     (Continuous and non-negative)\n",
        "x1 = f.addVar(name=\"chairs\")\n",
        "x2 = f.addVar(name=\"tables\")"
      ],
      "metadata": {
        "id": "5dRmkezNmluq"
      },
      "execution_count": null,
      "outputs": []
    },
    {
      "cell_type": "code",
      "source": [
        "# Define objective function (Default value in gurobi is to minimize so we use GRB.MAXIMIZE)\n",
        "f.setObjective(45*x1 + 80*x2, GRB.MAXIMIZE)"
      ],
      "metadata": {
        "id": "ujGwYOA4mxVJ"
      },
      "execution_count": null,
      "outputs": []
    },
    {
      "cell_type": "code",
      "source": [
        "# Add mahogany constraint\n",
        "f.addConstr(5*x1 + 20*x2 <= 400, \"mahogany\")\n",
        "# Add labour constraint\n",
        "f.addConstr(10*x1 + 15*x2 <= 450, \"labour\")"
      ],
      "metadata": {
        "colab": {
          "base_uri": "https://localhost:8080/"
        },
        "id": "d610rQP-nQDe",
        "outputId": "3de9bb7b-fd0b-458e-810b-7849e6faccb8"
      },
      "execution_count": null,
      "outputs": [
        {
          "output_type": "execute_result",
          "data": {
            "text/plain": [
              "<gurobi.Constr *Awaiting Model Update*>"
            ]
          },
          "metadata": {},
          "execution_count": 12
        }
      ]
    },
    {
      "cell_type": "code",
      "source": [
        "f.optimize()"
      ],
      "metadata": {
        "colab": {
          "base_uri": "https://localhost:8080/"
        },
        "id": "wE2hrmOdn0TM",
        "outputId": "77f24a41-0978-4727-f906-38301e783f18"
      },
      "execution_count": null,
      "outputs": [
        {
          "output_type": "stream",
          "name": "stdout",
          "text": [
            "Gurobi Optimizer version 10.0.2 build v10.0.2rc0 (linux64)\n",
            "\n",
            "CPU model: Intel(R) Xeon(R) CPU @ 2.20GHz, instruction set [SSE2|AVX|AVX2]\n",
            "Thread count: 1 physical cores, 2 logical processors, using up to 2 threads\n",
            "\n",
            "Optimize a model with 2 rows, 2 columns and 4 nonzeros\n",
            "Model fingerprint: 0xd0437183\n",
            "Coefficient statistics:\n",
            "  Matrix range     [5e+00, 2e+01]\n",
            "  Objective range  [4e+01, 8e+01]\n",
            "  Bounds range     [0e+00, 0e+00]\n",
            "  RHS range        [4e+02, 4e+02]\n",
            "Presolve time: 0.01s\n",
            "Presolved: 2 rows, 2 columns, 4 nonzeros\n",
            "\n",
            "Iteration    Objective       Primal Inf.    Dual Inf.      Time\n",
            "       0    6.5000000e+31   2.968750e+30   6.500000e+01      0s\n",
            "       2    2.2000000e+03   0.000000e+00   0.000000e+00      0s\n",
            "\n",
            "Solved in 2 iterations and 0.03 seconds (0.00 work units)\n",
            "Optimal objective  2.200000000e+03\n"
          ]
        }
      ]
    },
    {
      "cell_type": "code",
      "source": [
        "# Display optimal production plan\n",
        "for v in f.getVars(): #retrieves a list of all variables in the model object f\n",
        "  print(v.varName, v.x) #The print function displays the decision variable names and solution values\n",
        "\n",
        "print('Optimal total revenue:', f.objVal) #The print function displays the obj func value of the model object f"
      ],
      "metadata": {
        "colab": {
          "base_uri": "https://localhost:8080/"
        },
        "id": "varoIsFrn730",
        "outputId": "89e7b4f2-9665-48ea-d255-42c1d2533f79"
      },
      "execution_count": null,
      "outputs": [
        {
          "output_type": "stream",
          "name": "stdout",
          "text": [
            "chairs 24.0\n",
            "tables 14.0\n",
            "Optimal total revenue: 2200.0\n"
          ]
        }
      ]
    },
    {
      "cell_type": "markdown",
      "source": [
        "Making the problem general to use the model for big data"
      ],
      "metadata": {
        "id": "kVF9JbgjSaCw"
      }
    },
    {
      "cell_type": "code",
      "source": [
        "\\begin{equation}\n",
        "p \\belongs products\n",
        "\n",
        "\\end{equation}"
      ],
      "metadata": {
        "id": "d33i3sVbo-by"
      },
      "execution_count": null,
      "outputs": []
    },
    {
      "cell_type": "code",
      "source": [
        "# resources data\n",
        "resources, capacity = multidict({\n",
        "    'mahogany': 400,\n",
        "    'labour': 450})"
      ],
      "metadata": {
        "id": "oXU4ZGdSTpt2"
      },
      "execution_count": null,
      "outputs": []
    },
    {
      "cell_type": "code",
      "source": [
        "# products data,\n",
        "products, revenue = multidict({\n",
        "    'chair': 45,\n",
        "    'table': 80})"
      ],
      "metadata": {
        "id": "tRa7YX-LT4Nw"
      },
      "execution_count": null,
      "outputs": []
    },
    {
      "cell_type": "code",
      "source": [
        "# bill of materials: resources required by each product\n",
        "# this dictionary has a 2-tuple as a key, mapping the resource required by a product with its quantity per.\n",
        "bom = {\n",
        "    ('mahogany', 'chair'): 5,\n",
        "    ('mahogany', 'table'): 20,\n",
        "    ('labour', 'chair'): 10,\n",
        "    ('labour', 'table'): 15,}"
      ],
      "metadata": {
        "id": "Rbb2vPJ_UCki"
      },
      "execution_count": null,
      "outputs": []
    },
    {
      "cell_type": "code",
      "source": [
        "# Declare and initialize model\n",
        "f1 = Model('Furniture')"
      ],
      "metadata": {
        "id": "XkpJiqAtVP2n"
      },
      "execution_count": null,
      "outputs": []
    },
    {
      "cell_type": "code",
      "source": [
        "# Create decision variables for the products to make\n",
        "# this method adds decision variables to the model object f, and returns a Gurobi tupledict object(make)\n",
        "# the first argument (products) provides the indices that will be used as keys to access the variables in the returned tupledict.\n",
        "# the last argument gives the name 'make' to the decision variables.\n",
        "# The decision variables are of type continuous and non-negative, with no upper bound\n",
        "make = f1.addVars(products, name=\"make\")"
      ],
      "metadata": {
        "id": "XaS7f4MmVVWm"
      },
      "execution_count": null,
      "outputs": []
    },
    {
      "cell_type": "markdown",
      "source": [
        "\\begin{equation}\n",
        "\\sum_{p \\in \\text{products}}{\\text{bom}_{r,p}}{\\text{make}_{p}} \\leq {\\text{capacity}_{r}} \\quad \\forall r \\in \\text{resources}\n",
        "\\end{equation}\n",
        "\n"
      ],
      "metadata": {
        "id": "a8ZhD4dcXTsH"
      }
    },
    {
      "cell_type": "code",
      "source": [
        "# add constraints (res for resource) to the model object f\n",
        "res = f1.addConstrs(((sum(bom[r,p]*make[p] for p in products) <= capacity[r])for r in resources), name='R')"
      ],
      "metadata": {
        "id": "3_OOvW4QVcRF"
      },
      "execution_count": null,
      "outputs": []
    },
    {
      "cell_type": "markdown",
      "source": [
        "\\begin{equation}\n",
        "\\text{Max} \\sum_{p \\in products}{\\text{price}_p}{\\text{make}_p}\n",
        "\\end{equation}"
      ],
      "metadata": {
        "id": "V8xoES-maxRc"
      }
    },
    {
      "cell_type": "code",
      "source": [
        "# the objective is to maximize total profit\n",
        "# prod method is the product of object price with the object (make) for each product p in the set of (products)\n",
        "f1.setObjective(make.prod(revenue), GRB.MAXIMIZE)"
      ],
      "metadata": {
        "id": "DAnbh4GHW_3Z"
      },
      "execution_count": null,
      "outputs": []
    },
    {
      "cell_type": "code",
      "source": [
        "f1.write('furniture.lp')"
      ],
      "metadata": {
        "id": "Cia7xe_obZkQ"
      },
      "execution_count": null,
      "outputs": []
    },
    {
      "cell_type": "code",
      "source": [
        "# run optimizaiton engine\n",
        "f1.optimize()"
      ],
      "metadata": {
        "colab": {
          "base_uri": "https://localhost:8080/"
        },
        "id": "O7QPZ-wDdRp8",
        "outputId": "ab07ce06-376a-483d-ede7-4d412d2c337d"
      },
      "execution_count": null,
      "outputs": [
        {
          "output_type": "stream",
          "name": "stdout",
          "text": [
            "Gurobi Optimizer version 10.0.2 build v10.0.2rc0 (linux64)\n",
            "\n",
            "CPU model: Intel(R) Xeon(R) CPU @ 2.20GHz, instruction set [SSE2|AVX|AVX2]\n",
            "Thread count: 1 physical cores, 2 logical processors, using up to 2 threads\n",
            "\n",
            "Optimize a model with 2 rows, 2 columns and 4 nonzeros\n",
            "Model fingerprint: 0xd0437183\n",
            "Coefficient statistics:\n",
            "  Matrix range     [5e+00, 2e+01]\n",
            "  Objective range  [4e+01, 8e+01]\n",
            "  Bounds range     [0e+00, 0e+00]\n",
            "  RHS range        [4e+02, 4e+02]\n",
            "Presolve time: 0.01s\n",
            "Presolved: 2 rows, 2 columns, 4 nonzeros\n",
            "\n",
            "       0    6.5000000e+31   2.968750e+30   6.500000e+01      0s\n",
            "       2    2.2000000e+03   0.000000e+00   0.000000e+00      0s\n",
            "\n",
            "Solved in 2 iterations and 0.01 seconds (0.00 work units)\n",
            "Optimal objective  2.200000000e+03\n"
          ]
        }
      ]
    },
    {
      "cell_type": "code",
      "source": [
        "# display optimal values of decision variables\n",
        "for v in f1.getVars():\n",
        "  if(abs(v.x) > 1e-6):\n",
        "    print(v.varName, v.x)\n",
        "\n",
        "# display optimal total profit value\n",
        "print('total revenue', f.objVal)"
      ],
      "metadata": {
        "colab": {
          "base_uri": "https://localhost:8080/"
        },
        "id": "sWVedU1JgV3E",
        "outputId": "494bb762-c0ff-4f19-cfe6-e858ea922479"
      },
      "execution_count": null,
      "outputs": [
        {
          "output_type": "stream",
          "name": "stdout",
          "text": [
            "make[chair] 24.0\n",
            "make[table] 14.0\n",
            "total revenue 2200.0\n"
          ]
        }
      ]
    },
    {
      "cell_type": "markdown",
      "source": [
        "#Shadow price: economic interpretation\n",
        "\n",
        "suppose labour capacity is increased from 450 to 451 hours. what is the increase in the obj function value from such increase?\n",
        "\n",
        "The simplex method automatically gives the shadow prices.\n",
        "\n",
        "For each resource constraint in the dictionary (res), check if its associated price is greater than zero. Then print the resource constraint name and the resource constraint shadow price."
      ],
      "metadata": {
        "id": "V8YwYs8Ah0QC"
      }
    },
    {
      "cell_type": "code",
      "source": [
        "# display shadow prices of resource constraints\n",
        "for r in res:\n",
        "  if (abs(res[r].Pi) > 1e-6):\n",
        "    print(res[r].ConstrName, res[r].Pi)"
      ],
      "metadata": {
        "colab": {
          "base_uri": "https://localhost:8080/"
        },
        "id": "Lp_29XkAjS0V",
        "outputId": "b160c7c8-32e1-45ed-f5f8-37d4fd969b1d"
      },
      "execution_count": null,
      "outputs": [
        {
          "output_type": "stream",
          "name": "stdout",
          "text": [
            "R[mahogany] 1.0\n",
            "R[labour] 4.0\n"
          ]
        }
      ]
    }
  ]
}